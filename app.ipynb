{
  "cells": [
    {
      "cell_type": "markdown",
      "metadata": {
        "id": "2bNWcoTrw_6z"
      },
      "source": [
        "### 1. Install Packages"
      ]
    },
    {
      "cell_type": "code",
      "execution_count": 1,
      "metadata": {
        "colab": {
          "base_uri": "https://localhost:8080/"
        },
        "id": "T2hTEecFw_62",
        "outputId": "8c9bac47-c365-49ea-9a1e-7faf529f49ec"
      },
      "outputs": [
        {
          "name": "stdout",
          "output_type": "stream",
          "text": [
            "Requirement already satisfied: flask in /usr/local/lib/python3.7/dist-packages (1.1.4)\n",
            "Requirement already satisfied: click<8.0,>=5.1 in /usr/local/lib/python3.7/dist-packages (from flask) (7.1.2)\n",
            "Requirement already satisfied: Jinja2<3.0,>=2.10.1 in /usr/local/lib/python3.7/dist-packages (from flask) (2.11.3)\n",
            "Requirement already satisfied: itsdangerous<2.0,>=0.24 in /usr/local/lib/python3.7/dist-packages (from flask) (1.1.0)\n",
            "Requirement already satisfied: Werkzeug<2.0,>=0.15 in /usr/local/lib/python3.7/dist-packages (from flask) (1.0.1)\n",
            "Requirement already satisfied: MarkupSafe>=0.23 in /usr/local/lib/python3.7/dist-packages (from Jinja2<3.0,>=2.10.1->flask) (2.0.1)\n",
            "Collecting flask-ngrok\n",
            "  Downloading flask_ngrok-0.0.25-py3-none-any.whl (3.1 kB)\n",
            "Requirement already satisfied: requests in /usr/local/lib/python3.7/dist-packages (from flask-ngrok) (2.23.0)\n",
            "Requirement already satisfied: Flask>=0.8 in /usr/local/lib/python3.7/dist-packages (from flask-ngrok) (1.1.4)\n",
            "Requirement already satisfied: Werkzeug<2.0,>=0.15 in /usr/local/lib/python3.7/dist-packages (from Flask>=0.8->flask-ngrok) (1.0.1)\n",
            "Requirement already satisfied: Jinja2<3.0,>=2.10.1 in /usr/local/lib/python3.7/dist-packages (from Flask>=0.8->flask-ngrok) (2.11.3)\n",
            "Requirement already satisfied: itsdangerous<2.0,>=0.24 in /usr/local/lib/python3.7/dist-packages (from Flask>=0.8->flask-ngrok) (1.1.0)\n",
            "Requirement already satisfied: click<8.0,>=5.1 in /usr/local/lib/python3.7/dist-packages (from Flask>=0.8->flask-ngrok) (7.1.2)\n",
            "Requirement already satisfied: MarkupSafe>=0.23 in /usr/local/lib/python3.7/dist-packages (from Jinja2<3.0,>=2.10.1->Flask>=0.8->flask-ngrok) (2.0.1)\n",
            "Requirement already satisfied: certifi>=2017.4.17 in /usr/local/lib/python3.7/dist-packages (from requests->flask-ngrok) (2021.10.8)\n",
            "Requirement already satisfied: chardet<4,>=3.0.2 in /usr/local/lib/python3.7/dist-packages (from requests->flask-ngrok) (3.0.4)\n",
            "Requirement already satisfied: idna<3,>=2.5 in /usr/local/lib/python3.7/dist-packages (from requests->flask-ngrok) (2.10)\n",
            "Requirement already satisfied: urllib3!=1.25.0,!=1.25.1,<1.26,>=1.21.1 in /usr/local/lib/python3.7/dist-packages (from requests->flask-ngrok) (1.24.3)\n",
            "Installing collected packages: flask-ngrok\n",
            "Successfully installed flask-ngrok-0.0.25\n",
            "Installed\n"
          ]
        }
      ],
      "source": [
        "!pip install flask\n",
        "!pip install flask-ngrok\n",
        "print(\"Installed\")"
      ]
    },
    {
      "cell_type": "markdown",
      "metadata": {
        "id": "jTWbFmEvw_64"
      },
      "source": [
        "### 2. Install Ngrok"
      ]
    },
    {
      "cell_type": "code",
      "execution_count": 2,
      "metadata": {
        "colab": {
          "base_uri": "https://localhost:8080/"
        },
        "id": "S2Q0J9Ylw_65",
        "outputId": "13f5522a-7611-439a-bad5-31982f3fd9b5"
      },
      "outputs": [
        {
          "name": "stdout",
          "output_type": "stream",
          "text": [
            "--2022-05-09 18:00:06--  https://bin.equinox.io/c/4VmDzA7iaHb/ngrok-stable-linux-amd64.tgz\n",
            "Resolving bin.equinox.io (bin.equinox.io)... 54.161.241.46, 52.202.168.65, 54.237.133.81, ...\n",
            "Connecting to bin.equinox.io (bin.equinox.io)|54.161.241.46|:443... connected.\n",
            "HTTP request sent, awaiting response... 200 OK\n",
            "Length: 13770165 (13M) [application/octet-stream]\n",
            "Saving to: ‘ngrok-stable-linux-amd64.tgz’\n",
            "\n",
            "ngrok-stable-linux- 100%[===================>]  13.13M  37.5MB/s    in 0.3s    \n",
            "\n",
            "2022-05-09 18:00:07 (37.5 MB/s) - ‘ngrok-stable-linux-amd64.tgz’ saved [13770165/13770165]\n",
            "\n",
            "ngrok\n"
          ]
        }
      ],
      "source": [
        "!wget https://bin.equinox.io/c/4VmDzA7iaHb/ngrok-stable-linux-amd64.tgz\n",
        "!tar -xvf /content/ngrok-stable-linux-amd64.tgz"
      ]
    },
    {
      "cell_type": "markdown",
      "metadata": {
        "id": "cxSVdBUR0GZq"
      },
      "source": [
        "### 3. Ensure Ngrok is Installed"
      ]
    },
    {
      "cell_type": "code",
      "execution_count": 3,
      "metadata": {
        "colab": {
          "base_uri": "https://localhost:8080/"
        },
        "id": "tW5SMfkH0Go7",
        "outputId": "a62faa09-fe74-45f1-964b-37bcb14c11de"
      },
      "outputs": [
        {
          "name": "stdout",
          "output_type": "stream",
          "text": [
            "NAME:\n",
            "   ngrok - tunnel local ports to public URLs and inspect traffic\n",
            "\n",
            "DESCRIPTION:\n",
            "    ngrok exposes local networked services behinds NATs and firewalls to the\n",
            "    public internet over a secure tunnel. Share local websites, build/test\n",
            "    webhook consumers and self-host personal services.\n",
            "    Detailed help for each command is available with 'ngrok help <command>'.\n",
            "    Open http://localhost:4040 for ngrok's web interface to inspect traffic.\n",
            "\n",
            "EXAMPLES:\n",
            "    ngrok http 80                    # secure public URL for port 80 web server\n",
            "    ngrok http -subdomain=baz 8080   # port 8080 available at baz.ngrok.io\n",
            "    ngrok http foo.dev:80            # tunnel to host:port instead of localhost\n",
            "    ngrok http https://localhost     # expose a local https server\n",
            "    ngrok tcp 22                     # tunnel arbitrary TCP traffic to port 22\n",
            "    ngrok tls -hostname=foo.com 443  # TLS traffic for foo.com to port 443\n",
            "    ngrok start foo bar baz          # start tunnels from the configuration file\n",
            "\n",
            "VERSION:\n",
            "   2.3.40\n",
            "\n",
            "AUTHOR:\n",
            "  inconshreveable - <alan@ngrok.com>\n",
            "\n",
            "COMMANDS:\n",
            "   authtoken\tsave authtoken to configuration file\n",
            "   credits\tprints author and licensing information\n",
            "   http\t\tstart an HTTP tunnel\n",
            "   start\tstart tunnels by name from the configuration file\n",
            "   tcp\t\tstart a TCP tunnel\n",
            "   tls\t\tstart a TLS tunnel\n",
            "   update\tupdate ngrok to the latest version\n",
            "   version\tprint the version string\n",
            "   help\t\tShows a list of commands or help for one command\n"
          ]
        }
      ],
      "source": [
        "!./ngrok"
      ]
    },
    {
      "cell_type": "markdown",
      "metadata": {
        "id": "Jv0semCDw_65"
      },
      "source": [
        "### 4. Set Ngrok Token"
      ]
    },
    {
      "cell_type": "code",
      "execution_count": 4,
      "metadata": {
        "colab": {
          "base_uri": "https://localhost:8080/"
        },
        "id": "obi5cEiTw_66",
        "outputId": "068f21fb-4981-4cc2-fe9b-856a2208efc5"
      },
      "outputs": [
        {
          "name": "stdout",
          "output_type": "stream",
          "text": [
            "Authtoken saved to configuration file: /root/.ngrok2/ngrok.yml\n"
          ]
        }
      ],
      "source": [
        "!./ngrok authtoken 28vL9ko9ifzxsPY0BNrduIR4Wkw_3qAy4kCWkbzB9HEaz3VrK"
      ]
    },
    {
      "cell_type": "markdown",
      "metadata": {
        "id": "5rnoAgZizyiX"
      },
      "source": [
        "### 5.Building Flask App"
      ]
    },
    {
      "cell_type": "code",
      "execution_count": null,
      "metadata": {},
      "outputs": [],
      "source": [
        "from google.colab import drive\n",
        "drive.mount('/content/drive')\n",
        "\n",
        "import sys\n",
        "sys.path.append('/content/drive/MyDrive/Cap/Backend_ML') #/content/drive/MyDrive/'your path'"
      ]
    },
    {
      "cell_type": "code",
      "execution_count": null,
      "metadata": {
        "colab": {
          "base_uri": "https://localhost:8080/"
        },
        "id": "Tjkpnu60w_66",
        "outputId": "450cffa9-4466-40a1-ba57-309dcb33fbfd"
      },
      "outputs": [
        {
          "name": "stdout",
          "output_type": "stream",
          "text": [
            " * Serving Flask app \"__main__\" (lazy loading)\n",
            " * Environment: production\n",
            "\u001b[31m   WARNING: This is a development server. Do not use it in a production deployment.\u001b[0m\n",
            "\u001b[2m   Use a production WSGI server instead.\u001b[0m\n",
            " * Debug mode: off\n"
          ]
        },
        {
          "name": "stderr",
          "output_type": "stream",
          "text": [
            " * Running on http://127.0.0.1:5000/ (Press CTRL+C to quit)\n"
          ]
        },
        {
          "name": "stdout",
          "output_type": "stream",
          "text": [
            " * Running on http://87c9-34-68-90-254.ngrok.io\n",
            " * Traffic stats available on http://127.0.0.1:4040\n"
          ]
        },
        {
          "name": "stderr",
          "output_type": "stream",
          "text": [
            "127.0.0.1 - - [09/May/2022 18:00:54] \"\u001b[37mGET / HTTP/1.1\u001b[0m\" 200 -\n",
            "127.0.0.1 - - [09/May/2022 18:00:55] \"\u001b[37mGET / HTTP/1.1\u001b[0m\" 200 -\n",
            "127.0.0.1 - - [09/May/2022 18:06:45] \"\u001b[37mPOST /prediction HTTP/1.1\u001b[0m\" 200 -\n",
            "127.0.0.1 - - [09/May/2022 18:08:22] \"\u001b[37mPOST /prediction HTTP/1.1\u001b[0m\" 200 -\n",
            "127.0.0.1 - - [09/May/2022 18:09:22] \"\u001b[37mPOST /prediction HTTP/1.1\u001b[0m\" 200 -\n",
            "127.0.0.1 - - [09/May/2022 18:10:22] \"\u001b[37mPOST /prediction HTTP/1.1\u001b[0m\" 200 -\n",
            "127.0.0.1 - - [09/May/2022 18:11:22] \"\u001b[37mPOST /prediction HTTP/1.1\u001b[0m\" 200 -\n",
            "127.0.0.1 - - [09/May/2022 18:12:22] \"\u001b[37mPOST /prediction HTTP/1.1\u001b[0m\" 200 -\n",
            "127.0.0.1 - - [09/May/2022 18:13:22] \"\u001b[37mPOST /prediction HTTP/1.1\u001b[0m\" 200 -\n",
            "127.0.0.1 - - [09/May/2022 18:14:22] \"\u001b[37mPOST /prediction HTTP/1.1\u001b[0m\" 200 -\n",
            "127.0.0.1 - - [09/May/2022 18:15:22] \"\u001b[37mPOST /prediction HTTP/1.1\u001b[0m\" 200 -\n",
            "127.0.0.1 - - [09/May/2022 18:16:23] \"\u001b[37mPOST /prediction HTTP/1.1\u001b[0m\" 200 -\n",
            "127.0.0.1 - - [09/May/2022 18:17:23] \"\u001b[37mPOST /prediction HTTP/1.1\u001b[0m\" 200 -\n",
            "127.0.0.1 - - [09/May/2022 18:18:23] \"\u001b[37mPOST /prediction HTTP/1.1\u001b[0m\" 200 -\n",
            "127.0.0.1 - - [09/May/2022 18:19:23] \"\u001b[37mPOST /prediction HTTP/1.1\u001b[0m\" 200 -\n",
            "127.0.0.1 - - [09/May/2022 18:20:23] \"\u001b[37mPOST /prediction HTTP/1.1\u001b[0m\" 200 -\n",
            "127.0.0.1 - - [09/May/2022 18:21:23] \"\u001b[37mPOST /prediction HTTP/1.1\u001b[0m\" 200 -\n",
            "127.0.0.1 - - [09/May/2022 18:22:23] \"\u001b[37mPOST /prediction HTTP/1.1\u001b[0m\" 200 -\n",
            "127.0.0.1 - - [09/May/2022 18:23:23] \"\u001b[37mPOST /prediction HTTP/1.1\u001b[0m\" 200 -\n",
            "127.0.0.1 - - [09/May/2022 18:24:23] \"\u001b[37mPOST /prediction HTTP/1.1\u001b[0m\" 200 -\n",
            "127.0.0.1 - - [09/May/2022 18:25:23] \"\u001b[37mPOST /prediction HTTP/1.1\u001b[0m\" 200 -\n",
            "127.0.0.1 - - [09/May/2022 18:26:23] \"\u001b[37mPOST /prediction HTTP/1.1\u001b[0m\" 200 -\n",
            "127.0.0.1 - - [09/May/2022 18:27:23] \"\u001b[37mPOST /prediction HTTP/1.1\u001b[0m\" 200 -\n",
            "127.0.0.1 - - [09/May/2022 18:28:23] \"\u001b[37mPOST /prediction HTTP/1.1\u001b[0m\" 200 -\n",
            "127.0.0.1 - - [09/May/2022 18:29:23] \"\u001b[37mPOST /prediction HTTP/1.1\u001b[0m\" 200 -\n",
            "127.0.0.1 - - [09/May/2022 18:30:23] \"\u001b[37mPOST /prediction HTTP/1.1\u001b[0m\" 200 -\n",
            "127.0.0.1 - - [09/May/2022 18:31:23] \"\u001b[37mPOST /prediction HTTP/1.1\u001b[0m\" 200 -\n",
            "127.0.0.1 - - [09/May/2022 18:32:23] \"\u001b[37mPOST /prediction HTTP/1.1\u001b[0m\" 200 -\n",
            "127.0.0.1 - - [09/May/2022 18:33:23] \"\u001b[37mPOST /prediction HTTP/1.1\u001b[0m\" 200 -\n",
            "127.0.0.1 - - [09/May/2022 18:34:23] \"\u001b[37mPOST /prediction HTTP/1.1\u001b[0m\" 200 -\n",
            "127.0.0.1 - - [09/May/2022 18:35:24] \"\u001b[37mPOST /prediction HTTP/1.1\u001b[0m\" 200 -\n",
            "127.0.0.1 - - [09/May/2022 18:36:24] \"\u001b[37mPOST /prediction HTTP/1.1\u001b[0m\" 200 -\n",
            "127.0.0.1 - - [09/May/2022 18:37:24] \"\u001b[37mPOST /prediction HTTP/1.1\u001b[0m\" 200 -\n",
            "127.0.0.1 - - [09/May/2022 18:38:24] \"\u001b[37mPOST /prediction HTTP/1.1\u001b[0m\" 200 -\n",
            "127.0.0.1 - - [09/May/2022 18:39:24] \"\u001b[37mPOST /prediction HTTP/1.1\u001b[0m\" 200 -\n",
            "127.0.0.1 - - [09/May/2022 18:40:24] \"\u001b[37mPOST /prediction HTTP/1.1\u001b[0m\" 200 -\n",
            "127.0.0.1 - - [09/May/2022 18:41:24] \"\u001b[37mPOST /prediction HTTP/1.1\u001b[0m\" 200 -\n",
            "127.0.0.1 - - [09/May/2022 18:42:24] \"\u001b[37mPOST /prediction HTTP/1.1\u001b[0m\" 200 -\n",
            "127.0.0.1 - - [09/May/2022 18:43:24] \"\u001b[37mPOST /prediction HTTP/1.1\u001b[0m\" 200 -\n",
            "127.0.0.1 - - [09/May/2022 18:44:24] \"\u001b[37mPOST /prediction HTTP/1.1\u001b[0m\" 200 -\n",
            "127.0.0.1 - - [09/May/2022 18:45:24] \"\u001b[37mPOST /prediction HTTP/1.1\u001b[0m\" 200 -\n",
            "127.0.0.1 - - [09/May/2022 18:46:24] \"\u001b[37mPOST /prediction HTTP/1.1\u001b[0m\" 200 -\n",
            "127.0.0.1 - - [09/May/2022 18:47:24] \"\u001b[37mPOST /prediction HTTP/1.1\u001b[0m\" 200 -\n",
            "127.0.0.1 - - [09/May/2022 18:48:25] \"\u001b[37mPOST /prediction HTTP/1.1\u001b[0m\" 200 -\n",
            "127.0.0.1 - - [09/May/2022 18:49:24] \"\u001b[37mPOST /prediction HTTP/1.1\u001b[0m\" 200 -\n",
            "127.0.0.1 - - [09/May/2022 18:50:25] \"\u001b[37mPOST /prediction HTTP/1.1\u001b[0m\" 200 -\n",
            "127.0.0.1 - - [09/May/2022 18:51:24] \"\u001b[37mPOST /prediction HTTP/1.1\u001b[0m\" 200 -\n",
            "127.0.0.1 - - [09/May/2022 18:52:24] \"\u001b[37mPOST /prediction HTTP/1.1\u001b[0m\" 200 -\n",
            "127.0.0.1 - - [09/May/2022 18:53:25] \"\u001b[37mPOST /prediction HTTP/1.1\u001b[0m\" 200 -\n",
            "127.0.0.1 - - [09/May/2022 18:54:24] \"\u001b[37mPOST /prediction HTTP/1.1\u001b[0m\" 200 -\n",
            "127.0.0.1 - - [09/May/2022 18:55:25] \"\u001b[37mPOST /prediction HTTP/1.1\u001b[0m\" 200 -\n",
            "127.0.0.1 - - [09/May/2022 18:56:25] \"\u001b[37mPOST /prediction HTTP/1.1\u001b[0m\" 200 -\n",
            "127.0.0.1 - - [09/May/2022 18:57:25] \"\u001b[37mPOST /prediction HTTP/1.1\u001b[0m\" 200 -\n",
            "127.0.0.1 - - [09/May/2022 18:58:25] \"\u001b[37mPOST /prediction HTTP/1.1\u001b[0m\" 200 -\n",
            "127.0.0.1 - - [09/May/2022 18:59:25] \"\u001b[37mPOST /prediction HTTP/1.1\u001b[0m\" 200 -\n",
            "127.0.0.1 - - [09/May/2022 19:00:25] \"\u001b[37mPOST /prediction HTTP/1.1\u001b[0m\" 200 -\n",
            "127.0.0.1 - - [09/May/2022 19:01:25] \"\u001b[37mPOST /prediction HTTP/1.1\u001b[0m\" 200 -\n",
            "127.0.0.1 - - [09/May/2022 19:02:25] \"\u001b[37mPOST /prediction HTTP/1.1\u001b[0m\" 200 -\n",
            "127.0.0.1 - - [09/May/2022 19:03:25] \"\u001b[37mPOST /prediction HTTP/1.1\u001b[0m\" 200 -\n",
            "127.0.0.1 - - [09/May/2022 19:04:25] \"\u001b[37mPOST /prediction HTTP/1.1\u001b[0m\" 200 -\n",
            "127.0.0.1 - - [09/May/2022 19:05:25] \"\u001b[37mPOST /prediction HTTP/1.1\u001b[0m\" 200 -\n",
            "127.0.0.1 - - [09/May/2022 19:06:25] \"\u001b[37mPOST /prediction HTTP/1.1\u001b[0m\" 200 -\n",
            "127.0.0.1 - - [09/May/2022 19:07:25] \"\u001b[37mPOST /prediction HTTP/1.1\u001b[0m\" 200 -\n",
            "127.0.0.1 - - [09/May/2022 19:08:25] \"\u001b[37mPOST /prediction HTTP/1.1\u001b[0m\" 200 -\n",
            "127.0.0.1 - - [09/May/2022 19:09:25] \"\u001b[37mPOST /prediction HTTP/1.1\u001b[0m\" 200 -\n",
            "127.0.0.1 - - [09/May/2022 19:10:25] \"\u001b[37mPOST /prediction HTTP/1.1\u001b[0m\" 200 -\n",
            "127.0.0.1 - - [09/May/2022 19:11:25] \"\u001b[37mPOST /prediction HTTP/1.1\u001b[0m\" 200 -\n",
            "127.0.0.1 - - [09/May/2022 19:12:25] \"\u001b[37mPOST /prediction HTTP/1.1\u001b[0m\" 200 -\n",
            "127.0.0.1 - - [09/May/2022 19:13:26] \"\u001b[37mPOST /prediction HTTP/1.1\u001b[0m\" 200 -\n",
            "127.0.0.1 - - [09/May/2022 19:14:26] \"\u001b[37mPOST /prediction HTTP/1.1\u001b[0m\" 200 -\n",
            "127.0.0.1 - - [09/May/2022 19:15:26] \"\u001b[37mPOST /prediction HTTP/1.1\u001b[0m\" 200 -\n",
            "127.0.0.1 - - [09/May/2022 19:16:26] \"\u001b[37mPOST /prediction HTTP/1.1\u001b[0m\" 200 -\n",
            "127.0.0.1 - - [09/May/2022 19:17:26] \"\u001b[37mPOST /prediction HTTP/1.1\u001b[0m\" 200 -\n",
            "127.0.0.1 - - [09/May/2022 19:18:26] \"\u001b[37mPOST /prediction HTTP/1.1\u001b[0m\" 200 -\n",
            "127.0.0.1 - - [09/May/2022 19:19:26] \"\u001b[37mPOST /prediction HTTP/1.1\u001b[0m\" 200 -\n",
            "127.0.0.1 - - [09/May/2022 19:20:26] \"\u001b[37mPOST /prediction HTTP/1.1\u001b[0m\" 200 -\n",
            "127.0.0.1 - - [09/May/2022 19:21:26] \"\u001b[37mPOST /prediction HTTP/1.1\u001b[0m\" 200 -\n",
            "127.0.0.1 - - [09/May/2022 19:22:26] \"\u001b[37mPOST /prediction HTTP/1.1\u001b[0m\" 200 -\n",
            "127.0.0.1 - - [09/May/2022 19:23:26] \"\u001b[37mPOST /prediction HTTP/1.1\u001b[0m\" 200 -\n",
            "127.0.0.1 - - [09/May/2022 19:24:26] \"\u001b[37mPOST /prediction HTTP/1.1\u001b[0m\" 200 -\n",
            "127.0.0.1 - - [09/May/2022 19:25:26] \"\u001b[37mPOST /prediction HTTP/1.1\u001b[0m\" 200 -\n",
            "127.0.0.1 - - [09/May/2022 19:26:26] \"\u001b[37mPOST /prediction HTTP/1.1\u001b[0m\" 200 -\n",
            "127.0.0.1 - - [09/May/2022 19:27:26] \"\u001b[37mPOST /prediction HTTP/1.1\u001b[0m\" 200 -\n",
            "127.0.0.1 - - [09/May/2022 19:28:26] \"\u001b[37mPOST /prediction HTTP/1.1\u001b[0m\" 200 -\n",
            "127.0.0.1 - - [09/May/2022 19:29:26] \"\u001b[37mPOST /prediction HTTP/1.1\u001b[0m\" 200 -\n",
            "127.0.0.1 - - [09/May/2022 19:30:26] \"\u001b[37mPOST /prediction HTTP/1.1\u001b[0m\" 200 -\n",
            "127.0.0.1 - - [09/May/2022 19:31:27] \"\u001b[37mPOST /prediction HTTP/1.1\u001b[0m\" 200 -\n",
            "127.0.0.1 - - [09/May/2022 19:32:27] \"\u001b[37mPOST /prediction HTTP/1.1\u001b[0m\" 200 -\n",
            "127.0.0.1 - - [09/May/2022 19:33:27] \"\u001b[37mPOST /prediction HTTP/1.1\u001b[0m\" 200 -\n",
            "127.0.0.1 - - [09/May/2022 19:34:27] \"\u001b[37mPOST /prediction HTTP/1.1\u001b[0m\" 200 -\n",
            "127.0.0.1 - - [09/May/2022 19:35:27] \"\u001b[37mPOST /prediction HTTP/1.1\u001b[0m\" 200 -\n",
            "127.0.0.1 - - [09/May/2022 19:36:27] \"\u001b[37mPOST /prediction HTTP/1.1\u001b[0m\" 200 -\n",
            "127.0.0.1 - - [09/May/2022 19:37:27] \"\u001b[37mPOST /prediction HTTP/1.1\u001b[0m\" 200 -\n",
            "127.0.0.1 - - [09/May/2022 19:38:27] \"\u001b[37mPOST /prediction HTTP/1.1\u001b[0m\" 200 -\n",
            "127.0.0.1 - - [09/May/2022 19:39:27] \"\u001b[37mPOST /prediction HTTP/1.1\u001b[0m\" 200 -\n",
            "127.0.0.1 - - [09/May/2022 19:40:27] \"\u001b[37mPOST /prediction HTTP/1.1\u001b[0m\" 200 -\n",
            "127.0.0.1 - - [09/May/2022 19:41:27] \"\u001b[37mPOST /prediction HTTP/1.1\u001b[0m\" 200 -\n",
            "127.0.0.1 - - [09/May/2022 19:42:27] \"\u001b[37mPOST /prediction HTTP/1.1\u001b[0m\" 200 -\n",
            "127.0.0.1 - - [09/May/2022 19:43:27] \"\u001b[37mPOST /prediction HTTP/1.1\u001b[0m\" 200 -\n",
            "127.0.0.1 - - [09/May/2022 19:44:27] \"\u001b[37mPOST /prediction HTTP/1.1\u001b[0m\" 200 -\n",
            "127.0.0.1 - - [09/May/2022 19:45:27] \"\u001b[37mPOST /prediction HTTP/1.1\u001b[0m\" 200 -\n",
            "127.0.0.1 - - [09/May/2022 19:46:27] \"\u001b[37mPOST /prediction HTTP/1.1\u001b[0m\" 200 -\n",
            "127.0.0.1 - - [09/May/2022 19:47:27] \"\u001b[37mPOST /prediction HTTP/1.1\u001b[0m\" 200 -\n",
            "127.0.0.1 - - [09/May/2022 19:48:27] \"\u001b[37mPOST /prediction HTTP/1.1\u001b[0m\" 200 -\n",
            "127.0.0.1 - - [09/May/2022 19:49:28] \"\u001b[37mPOST /prediction HTTP/1.1\u001b[0m\" 200 -\n",
            "127.0.0.1 - - [09/May/2022 19:50:28] \"\u001b[37mPOST /prediction HTTP/1.1\u001b[0m\" 200 -\n",
            "127.0.0.1 - - [09/May/2022 19:51:28] \"\u001b[37mPOST /prediction HTTP/1.1\u001b[0m\" 200 -\n",
            "127.0.0.1 - - [09/May/2022 19:52:28] \"\u001b[37mPOST /prediction HTTP/1.1\u001b[0m\" 200 -\n",
            "127.0.0.1 - - [09/May/2022 19:53:28] \"\u001b[37mPOST /prediction HTTP/1.1\u001b[0m\" 200 -\n",
            "127.0.0.1 - - [09/May/2022 19:54:28] \"\u001b[37mPOST /prediction HTTP/1.1\u001b[0m\" 200 -\n",
            "127.0.0.1 - - [09/May/2022 19:55:28] \"\u001b[37mPOST /prediction HTTP/1.1\u001b[0m\" 200 -\n",
            "127.0.0.1 - - [09/May/2022 19:56:28] \"\u001b[37mPOST /prediction HTTP/1.1\u001b[0m\" 200 -\n"
          ]
        }
      ],
      "source": [
        "from flask import Flask,request, jsonify, abort, make_response\n",
        "from flask_ngrok import run_with_ngrok\n",
        "from sentiment.sentiment_model import get_sentiment_model_class\n",
        "from keyword_extractor.keyword_model import get_keyword_model_class\n",
        "import yaml\n",
        "\n",
        "app = Flask(__name__)\n",
        "run_with_ngrok(app)\n",
        "\n",
        "with open('./sentiment/configs/cfg.yaml') as f:\n",
        "    sentiment_cfg = yaml.load(f, Loader=yaml.FullLoader)\n",
        "with open('./keyword/configs/cfg.yaml') as f:\n",
        "    keyword_cfg = yaml.load(f, Loader=yaml.FullLoader)\n",
        "    \n",
        "sentiment_model_class = get_sentiment_model_class(sentiment_cfg['model_name'])\n",
        "sentiment_model = sentiment_model_class(sentiment_cfg)\n",
        "\n",
        "keyword_model_class = get_keyword_model_class(keyword_cfg['model_name'])\n",
        "keyword_model = keyword_model_class(keyword_cfg)\n",
        "\n",
        "# 서버 작동 여부 확인 Route ('/')\n",
        "@app.route('/')\n",
        "def server_check():\n",
        "    return jsonify(message=\"Server Linked!\")\n",
        "\n",
        "# Emotion Prediction Route ('/prediction')\n",
        "@app.route('/prediction', methods = ['POST'])\n",
        "def prediction():\n",
        "    # request를 json으로 받아온다.\n",
        "    req = request.get_json()\n",
        "    content = req['content']\n",
        "    \n",
        "    \n",
        "    emotion = sentiment_model.predict(content)\n",
        "    hashtag = keyword_model.predict(content)\n",
        "\n",
        "    return jsonify(emotion= emotion,hashtag_1 = hashtag[0],hashtag_2 = hashtag[1],hashtag_3 = hashtag[2])\n",
        "\n",
        "@app.errorhandler(500)\n",
        "def internal_server_error(e):\n",
        "    abort(make_response(jsonify(message = \"Internal Server Error\"),500))\n",
        "\n",
        "if __name__ == '__main__':\n",
        "    app.run()\n",
        "    app.register_error_handler(500,internal_server_error)\n",
        "\n"
      ]
    }
  ],
  "metadata": {
    "accelerator": "GPU",
    "colab": {
      "name": "app.ipynb",
      "provenance": []
    },
    "kernelspec": {
      "display_name": "Python 3",
      "name": "python3"
    },
    "language_info": {
      "name": "python"
    },
    "orig_nbformat": 4
  },
  "nbformat": 4,
  "nbformat_minor": 0
}
